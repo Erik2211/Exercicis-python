{
 "cells": [
  {
   "cell_type": "markdown",
   "metadata": {},
   "source": [
    "## Exercici 1\n",
    "\n",
    "Crea un programa que recórrega una llista i cree un diccionari que continga el nombre de vegades que\n",
    "apareix cada número en la llista."
   ]
  },
  {
   "cell_type": "code",
   "execution_count": 3,
   "metadata": {},
   "outputs": [
    {
     "name": "stdout",
     "output_type": "stream",
     "text": [
      "{12: 3, 23: 2, 5: 3, 92: 2, 29: 1, 64: 1}\n"
     ]
    }
   ],
   "source": [
    "llista =  [12, 23, 5, 12, 92, 5, 12, 5, 29, 92, 64, 23] \n",
    "dicc = {}\n",
    "\n",
    "\n",
    "for n in llista:\n",
    "    if n in dicc :\n",
    "        dicc[n] += 1\n",
    "    else :\n",
    "        dicc[n] = 1\n",
    "print(dicc)    "
   ]
  },
  {
   "cell_type": "markdown",
   "metadata": {},
   "source": [
    "## Exercici 2\n",
    "\n",
    "Recorre un diccionari i crea una llista només amb els valors que conté, sense afegir valors duplicats."
   ]
  },
  {
   "cell_type": "code",
   "execution_count": 2,
   "metadata": {},
   "outputs": [
    {
     "name": "stdout",
     "output_type": "stream",
     "text": [
      "[3, 8, 12, 5, 7]\n"
     ]
    }
   ],
   "source": [
    "dicc =  {'Mikel': 3, 'Ana': 8, 'Amaia': 12, 'Unai': 5, 'Jon': 8, \n",
    "'Ainhoa': 7, 'Maite': 5}\n",
    "\n",
    "lista = []\n",
    "\n",
    "for i in dicc :\n",
    "    if dicc[i] not in lista :\n",
    "        lista.append(dicc[i])\n",
    "print(lista)"
   ]
  },
  {
   "cell_type": "markdown",
   "metadata": {},
   "source": [
    "## Exercici 3 \n",
    "\n",
    "Crea una programa de Login que comprove l’usuari i contrasenya en el diccionari a continuació:\n",
    "\n",
    "```\n",
    "usuarios = {  \n",
    "\"mmacia\": {  \n",
    "\"nombre\": \"Martí\",  \n",
    "\"apellido\": \"Macià\",  \n",
    "\"password\": \"123123\"  \n",
    "},  \n",
    "\"fmuguruza\": {  \n",
    "\"nombre\": \"Fermín\",  \n",
    "\"apellido\": \"Muguruza\",  \n",
    " \"password\": \"654321\"  \n",
    " },  \n",
    " \"cbiriukov\": {  \n",
    " \"nombre\": \"Chechu\",  \n",
    " \"apellido\": \"Biriukov\",  \n",
    " \"password\": \"123456\"  \n",
    " }  \n",
    " }  \n",
    "```\n",
    "\n",
    "L’usuari tindrà un màxim de 3 intents, i en accedir correctament es mostrarà el nom i cognom de\n",
    "l’usuari."
   ]
  },
  {
   "cell_type": "code",
   "execution_count": 1,
   "metadata": {},
   "outputs": [
    {
     "name": "stdout",
     "output_type": "stream",
     "text": [
      "Chechu Biriukov\n"
     ]
    }
   ],
   "source": [
    "usuarios = {  \n",
    "\"mmacia\": {  \n",
    "\"nombre\": \"Martí\",  \n",
    "\"apellido\": \"Macià\",  \n",
    "\"password\": \"123123\"  \n",
    "},  \n",
    "\"fmuguruza\": {  \n",
    "\"nombre\": \"Fermín\",  \n",
    "\"apellido\": \"Muguruza\",  \n",
    " \"password\": \"654321\"  \n",
    " },  \n",
    " \"cbiriukov\": {  \n",
    " \"nombre\": \"Chechu\",  \n",
    " \"apellido\": \"Biriukov\",  \n",
    " \"password\": \"123456\"  \n",
    " }  \n",
    " }  \n",
    "\n",
    "cont = 2\n",
    "user = input(\"Introduce el nombre de usuario: \")\n",
    "passwd = input(\"Introduce la contraseña: \")\n",
    "\n",
    "if user in usuarios and passwd in usuarios[user][\"password\"] :\n",
    "    print(usuarios[user][\"nombre\"],usuarios[user][\"apellido\"])\n",
    "else :\n",
    "    print(\"Contraseña incorrecta, te quedan\",cont,\"intentos\") \n",
    "\n",
    "    while cont != 0 :\n",
    "        user = input(\"Introduce el nombre de usuario: \")\n",
    "        passwd = input(\"Introduce la contraseña: \")\n",
    "        if user in usuarios and passwd in usuarios[user][\"password\"] :\n",
    "            print(usuarios[user][\"nombre\"],usuarios[user][\"apellido\"])\n",
    "        else : \n",
    "            cont = cont -1\n",
    "            print(\"Contraseña incorrecta, te quedan\",cont,\"intentos\")\n",
    "    print(\"Te has quedado sin intentos\")\n",
    "\n",
    "\n",
    "\n",
    "\n",
    "\n",
    "\n"
   ]
  },
  {
   "cell_type": "markdown",
   "metadata": {},
   "source": [
    "## Exercici 4 \n",
    "\n",
    "Crea un programa que permeta introduir a un professor les notes dels seus estudiants (màxim 10\n",
    "estudiants). Les dades s’hauran d’emmagatzemar en un diccionari com el següent:  \n",
    "```\n",
    "estudiantes = {\n",
    "\"1\": {\n",
    "\"nombre\": \"Lorena\",\n",
    "\"nota\": 8\n",
    "},\n",
    "\"2\": {\n",
    "\"nombre\": \"Marcel\",\n",
    "\"nota\": \"4.2\"\n",
    "},\n",
    " \"3\": {\n",
    " \"nombre\": \"Julio\",\n",
    " \"nota\": 6.5\n",
    " }\n",
    " }\n",
    "\n",
    "```  \n",
    "Una vegada introduïdes totes les dades, el programa mostrarà una llista amb els noms dels estudiants\n",
    "que han suspés i una altra amb els quals han aprovat. També calcularà i mostrarà la nota mitjana de la\n",
    "classe.  "
   ]
  },
  {
   "cell_type": "code",
   "execution_count": 6,
   "metadata": {},
   "outputs": [
    {
     "name": "stdout",
     "output_type": "stream",
     "text": [
      "{1: {'nombre': 'Lorena ', 'nota': '8'}, 2: {'nombre': 'erik', 'nota': '10'}}\n"
     ]
    }
   ],
   "source": [
    "estudiante = 1 \n",
    "estudiantes= {}\n",
    "while estudiante != 10:\n",
    "    nombre = input(\"Que estudiante quieres añadirle  nota? \")\n",
    "    if nombre == \"\" :\n",
    "        break\n",
    "    nota = input(\"Que nota quieres ponerle? \")\n",
    "    \n",
    "    estudiantes.update({estudiante:{\"nombre\":nombre,\"nota\":nota}})\n",
    "\n",
    "    estudiante += 1\n",
    "     \n",
    "\n",
    "print(estudiantes)"
   ]
  }
 ],
 "metadata": {
  "kernelspec": {
   "display_name": "Python 3",
   "language": "python",
   "name": "python3"
  },
  "language_info": {
   "codemirror_mode": {
    "name": "ipython",
    "version": 3
   },
   "file_extension": ".py",
   "mimetype": "text/x-python",
   "name": "python",
   "nbconvert_exporter": "python",
   "pygments_lexer": "ipython3",
   "version": "3.11.6"
  }
 },
 "nbformat": 4,
 "nbformat_minor": 2
}
