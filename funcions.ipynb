{
 "cells": [
  {
   "cell_type": "markdown",
   "metadata": {},
   "source": [
    "## Exercici 1 \n",
    "\n",
    "Crea un programa que determine si un número és primer o no. Hauràs de crear la funció esPrimer()\n",
    "que reba com a paràmetre un número i retorne True o False indicant si el número és primer o no."
   ]
  },
  {
   "cell_type": "code",
   "execution_count": 13,
   "metadata": {},
   "outputs": [
    {
     "data": {
      "text/plain": [
       "True"
      ]
     },
     "execution_count": 13,
     "metadata": {},
     "output_type": "execute_result"
    }
   ],
   "source": [
    "def esPrimer(num) :\n",
    "    for i in range(2,num):\n",
    "        if num % i == 0 :\n",
    "            return False\n",
    "    return True\n",
    "\n",
    "esPrimer(5)"
   ]
  },
  {
   "cell_type": "markdown",
   "metadata": {},
   "source": [
    "## Exercici 2\n",
    "\n",
    "Crea un programa que genere un número aleatori de l’1 al 10. L’usuari haurà d’endevinar-lo, i el\n",
    "programa després de cada intent li indicarà a l’usuari si el número és més alt, baix o si ha encertat. La\n",
    "lògica per a donar la resposta a l’usuari haurà d’estar inclosa en una funció a la qual es cridarà després\n",
    "de cada intent.  \n",
    "\n",
    "Nota: Per a la creació del número aleatori, utilitza el següent codi:  \n",
    "```\n",
    "from random import randint, uniform, random\n",
    " numero = randint(0, 10)\n",
    "```"
   ]
  },
  {
   "cell_type": "code",
   "execution_count": 14,
   "metadata": {},
   "outputs": [
    {
     "name": "stdout",
     "output_type": "stream",
     "text": [
      "Has acertat\n"
     ]
    }
   ],
   "source": [
    "from random import randint, uniform, random\n",
    "\n",
    "\n",
    "num = int(input(\"Disme un numero entre 1 i 10: \"))\n",
    "\n",
    "numero = randint(0,10)\n",
    "def encertar(num):\n",
    "\n",
    "    if numero > num :\n",
    "        return print(\"El numero aleatori\",numero,\"es mes alt que\",num)\n",
    "    elif numero < num:\n",
    "        return print(\"El numero aleatori\",numero,\"es mes baix que\",num)\n",
    "    elif numero == num:\n",
    "        return print(\"Has acertat\")\n",
    "    \n",
    "encertar(num)"
   ]
  },
  {
   "cell_type": "markdown",
   "metadata": {},
   "source": [
    "## Exercici 3\n",
    "\n",
    "Crea un programa que reba un número de l’1 al 20 introduït per l’usuari i comprove si està dins de la\n",
    "següent llista: [6,14,11,3,2,1,15,19]. Implementa una funció que s’assegure que el número\n",
    "introduït per l’usuari està en el rang indicat i una altra que comprove si està dins de la llista. Tracta de\n",
    "crear les funcions de manera que puguen ser reutilitzades el màxim possible en altres programes."
   ]
  },
  {
   "cell_type": "code",
   "execution_count": 15,
   "metadata": {},
   "outputs": [
    {
     "name": "stdout",
     "output_type": "stream",
     "text": [
      "Esta entre el 1 y el 20\n",
      "Esta en la lista\n"
     ]
    }
   ],
   "source": [
    "llista = [6,14,11,3,2,1,15,19]\n",
    "\n",
    "def check_range(a):\n",
    "    if a < 1 or a > 20:\n",
    "        return print(\"Debe ser entre 1 o 20 \")\n",
    "    else :\n",
    "        return print(\"Esta entre el 1 y el 20\")\n",
    "        \n",
    "def check_lista(a):\n",
    "    if a in llista:\n",
    "       return print(\"Esta en la lista\")\n",
    "    else:\n",
    "        return print(\"No esta en la lista\")\n",
    "\n",
    "num = int(input(\"Indica un numero del 1 al 20\"))\n",
    "\n",
    "check_range(num)\n",
    "check_lista(num)\n"
   ]
  }
 ],
 "metadata": {
  "kernelspec": {
   "display_name": "Python 3",
   "language": "python",
   "name": "python3"
  },
  "language_info": {
   "codemirror_mode": {
    "name": "ipython",
    "version": 3
   },
   "file_extension": ".py",
   "mimetype": "text/x-python",
   "name": "python",
   "nbconvert_exporter": "python",
   "pygments_lexer": "ipython3",
   "version": "3.11.6"
  }
 },
 "nbformat": 4,
 "nbformat_minor": 2
}
