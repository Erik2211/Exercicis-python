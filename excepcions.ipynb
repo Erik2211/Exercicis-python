{
 "cells": [
  {
   "cell_type": "markdown",
   "metadata": {},
   "source": [
    "## Exercici 1 \n",
    "\n",
    "Crea un programa que accedisca a la posició que l’usuari indique de la següent llista: [6,14,11,3,2,1,15,19].\n",
    "No oblides capturar les excepcions que puguen sorgir en cas que l’usuari introduïsca un índex\n",
    "incorrecte o que no existisca en la llista.\n"
   ]
  },
  {
   "cell_type": "code",
   "execution_count": 11,
   "metadata": {},
   "outputs": [
    {
     "name": "stdout",
     "output_type": "stream",
     "text": [
      "Index fuera de rango\n"
     ]
    }
   ],
   "source": [
    "llista = [6,14,11,3,2,1,15,9]\n",
    "\n",
    "pos = int(input(\"Indica una posicion de la siguiente lista,[6,14,11,3,2,1,15,19]\"))\n",
    "\n",
    "try:\n",
    "    print(llista[pos])\n",
    "except IndexError:\n",
    "    print(\"Index fuera de rango\")     \n",
    "\n"
   ]
  },
  {
   "cell_type": "markdown",
   "metadata": {},
   "source": [
    "## Exercici 2 \n",
    "\n",
    "Crea una aplicació reba la clau d’un diccionari i accedisca a un dels seus valors. Assegura’t que captures\n",
    "les excepcions que puguen saltar en intentar accedir a una clau del diccionari inexistent."
   ]
  },
  {
   "cell_type": "code",
   "execution_count": 13,
   "metadata": {},
   "outputs": [
    {
     "name": "stdout",
     "output_type": "stream",
     "text": [
      "Esa llave no existe\n"
     ]
    }
   ],
   "source": [
    "usuari = {\n",
    "    \"nombre\": \"Martí\" ,\n",
    "    \"apellido\":\"macia\" ,\n",
    "    \"password\": \"123123\"\n",
    "}\n",
    "\n",
    "clave= input(\"Di la clave del diccionario y te dire el valor\")\n",
    "\n",
    "try:\n",
    "    print(usuari[clave])\n",
    "except KeyError:\n",
    "    print(\"Esa llave no existe\") "
   ]
  }
 ],
 "metadata": {
  "kernelspec": {
   "display_name": "Python 3",
   "language": "python",
   "name": "python3"
  },
  "language_info": {
   "codemirror_mode": {
    "name": "ipython",
    "version": 3
   },
   "file_extension": ".py",
   "mimetype": "text/x-python",
   "name": "python",
   "nbconvert_exporter": "python",
   "pygments_lexer": "ipython3",
   "version": "3.11.6"
  }
 },
 "nbformat": 4,
 "nbformat_minor": 2
}
