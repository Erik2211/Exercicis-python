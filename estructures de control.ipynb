{
 "cells": [
  {
   "cell_type": "markdown",
   "metadata": {},
   "source": [
    "## Exercici 1 \n",
    "\n",
    "Crea un programa que sol·licite un número a l’usuari i retorne el següent missatge:\n",
    "\n",
    "```\n",
    "Si és major que 0: “És un número positiu.”  \n",
    "Si és igual a 0: “És igual a zero.”  \n",
    "Si és menor que 0: “És un número negatiu.”  \n",
    "```"
   ]
  },
  {
   "cell_type": "code",
   "execution_count": 4,
   "metadata": {},
   "outputs": [
    {
     "name": "stdout",
     "output_type": "stream",
     "text": [
      "Es un numero negativo\n"
     ]
    }
   ],
   "source": [
    "num = int(input(\"Di un numero\"))\n",
    "\n",
    "if num > 0:\n",
    "    print(\"Es un numero positivo\")\n",
    "elif num == 0 :\n",
    "    print(\"Es igual a zero\")\n",
    "else :\n",
    "    print(\"Es un numero negativo\")"
   ]
  },
  {
   "cell_type": "markdown",
   "metadata": {},
   "source": [
    "## Exerci 2\n",
    "\n",
    "Escriu un programa que sol·licite dos nombres enters a l’usuari i mostre per pantalla la suma de tots\n",
    "els nombres enters que hi ha entre els dos números (tots dos números inclosos).  \n",
    "\n",
    "```\n",
    "Exemple 1:\n",
    "Introdueix el número d’inici: 4\n",
    "Introdueix el número de fi: 8\n",
    "El resultat és: 30\n",
    "```"
   ]
  },
  {
   "cell_type": "code",
   "execution_count": 11,
   "metadata": {},
   "outputs": [
    {
     "name": "stdout",
     "output_type": "stream",
     "text": [
      "30\n"
     ]
    }
   ],
   "source": [
    "num1 = int(input(\"Introduce un numero\"))\n",
    "num2 = int(input(\"Introduce un numero\"))\n",
    "\n",
    "# con la funcion suma\n",
    "# suma = sum(range(num1,num2+1))\n",
    "# print(suma)\n",
    "\n",
    "cont = 0\n",
    "for i in range(num1,num2+1) :\n",
    "    suma= cont + i\n",
    "    cont= suma\n",
    "print(suma)"
   ]
  },
  {
   "cell_type": "markdown",
   "metadata": {},
   "source": [
    "## Exercici 3\n",
    "\n",
    "Millora el programa anterior perquè mostre per separat la suma dels nombres parells i els imparells\n",
    "\n",
    "```\n",
    "Exemple 1:\n",
    "Introdueix el número d’inici: 4\n",
    "Introdueix el número de fi: 8\n",
    "Els parells sumen 18 i els imparells 12\n",
    "\n",
    "```"
   ]
  },
  {
   "cell_type": "code",
   "execution_count": 13,
   "metadata": {},
   "outputs": [
    {
     "name": "stdout",
     "output_type": "stream",
     "text": [
      "Els parells sumen 18 i els imparells 12\n"
     ]
    }
   ],
   "source": [
    "num1 = int(input(\"Introduce un numero\"))\n",
    "num2 = int(input(\"Introduce un numero\"))\n",
    "\n",
    "\n",
    "par = 0\n",
    "impar = 0\n",
    "for i in range(num1,num2+1) :\n",
    "    if i %2 == 0 :\n",
    "        sumapar = par + i\n",
    "        par = sumapar\n",
    "    else :\n",
    "        sumaimpar = impar + i\n",
    "        impar = sumaimpar\n",
    "print(\"Els parells sumen\",sumapar,\"i els imparells\", sumaimpar)"
   ]
  },
  {
   "cell_type": "markdown",
   "metadata": {},
   "source": [
    "## Exercici 4\n",
    "\n",
    "Escriu un programa que sol·licite a l’usuari un nom d’usuari (root) i contrasenya (toor). El programa\n",
    "mostrarà el missatge “Benvingut!” si l’usuari introdueix les dades correctes, en cas contrari mostrarà el\n",
    "missatge “Accés fallit!” i el programa finalitzarà.\n",
    "\n",
    "```\n",
    "Exemple 1:\n",
    "Introdueix el nom d’usuari: root\n",
    "Introdueix la contrasenya: toor\n",
    "Benvingut!\n",
    "\n",
    "```"
   ]
  },
  {
   "cell_type": "code",
   "execution_count": 14,
   "metadata": {},
   "outputs": [
    {
     "name": "stdout",
     "output_type": "stream",
     "text": [
      "Acces fallit\n"
     ]
    }
   ],
   "source": [
    "user = input(\"Nombre de usuario: \")\n",
    "passw = input(\"Contrasenya: \")\n",
    "\n",
    "if user == \"root\" and passw == \"toor\" :\n",
    "    print(\"Benvingut\")\n",
    "else : \n",
    "    print(\"Acces fallit\")"
   ]
  },
  {
   "cell_type": "markdown",
   "metadata": {},
   "source": [
    "## Exercici 5 \n",
    "\n",
    "Millora el programa anterior perquè només permeta 3 intents. Cada vegada vegada que l’usuari\n",
    "introduïsca dades d’accés incorrectes el programa mostrarà el missatge: “Dades incorrectes. Li queden\n",
    "X intents.”, sent X el nombre d’intents restants. Després de la tercera fallada el programa mostrarà el\n",
    "missatge “Has esgotat tots els teus intents.” i finalitzarà.\n",
    "\n",
    "```\n",
    "Exemple:\n",
    "Introdueix el nom d’usuari: root\n",
    "Introdueix la contrasenya: 123456\n",
    "Dades incorrectes. Li queden 2 intents.\n",
    "Introdueix el nom d’usuari: root\n",
    "Introdueix la contrasenya: abcd\n",
    "Dades incorrectes. Li queden 1 intents.\n",
    "Introdueix el nom d’usuari: root\n",
    "Introdueix la contrasenya: 123abc\n",
    "Dades incorrectes. Li queden 0 intents.\n",
    "Has esgotat tots els teus intents\n",
    "```"
   ]
  },
  {
   "cell_type": "code",
   "execution_count": 1,
   "metadata": {},
   "outputs": [
    {
     "name": "stdout",
     "output_type": "stream",
     "text": [
      "Dades incorrectes. Li queden 2\n",
      "Dades incorrectes. Li queden 1\n",
      "Dades incorrectes. Li queden 0\n"
     ]
    }
   ],
   "source": [
    "intento = 3\n",
    "\n",
    "while intento != 0 :\n",
    "    user = input(\"Nombre de usuario \")\n",
    "    passw = input(\"Contrasenya\")\n",
    "    if user == \"root\" and passw == \"toor\" :\n",
    "        print(\"Benvingut!!\")\n",
    "    else :\n",
    "        intento = intento - 1\n",
    "        print(\"Dades incorrectes. Li queden\",intento,)        \n"
   ]
  },
  {
   "cell_type": "markdown",
   "metadata": {},
   "source": [
    "## Eexercici 6\n",
    "\n",
    "Crea un programa que reba 5 números de l’usuari i mostre el major de tots per pantalla.\n",
    "\n",
    "```\n",
    "Exemple:\n",
    "Introdueix un número: 5\n",
    "Introdueix un número: -10\n",
    "Introdueix un número: 2\n",
    "Introdueix un número: 14\n",
    "Introdueix un número: 7\n",
    "El número més alt és: 14\n",
    "\n",
    "```"
   ]
  },
  {
   "cell_type": "code",
   "execution_count": 3,
   "metadata": {},
   "outputs": [
    {
     "name": "stdout",
     "output_type": "stream",
     "text": [
      "El numero mes alt es 14\n"
     ]
    }
   ],
   "source": [
    "num1 = int(input(\"Introduce un numero\"))\n",
    "num2 = int(input(\"Introduce un numero\"))\n",
    "num3 = int(input(\"Introduce un numero\"))\n",
    "num4 = int(input(\"Introduce un numero\"))\n",
    "num5 = int(input(\"Introduce un numero\"))\n",
    "\n",
    "if num1 > num2 and num1 > num3 and num1 > num4 and num1 > num5 :\n",
    "    print(\"El numero mes alt es\",num1)\n",
    "elif num2 > num1 and num2 > num3 and num2 > num4 and num2 > num5 :\n",
    "    print(\"El numero mes alt es\",num2)\n",
    "elif num3 > num1 and num3 > num2 and num3 > num4 and num3 > num5 :\n",
    "    print(\"El numero mes alt es\",num3)\n",
    "elif num4 > num1 and num4 > num2 and num4 > num3 and num4 > num5 :\n",
    "    print(\"El numero mes alt es\",num4)\n",
    "else :\n",
    "    print(\"El numero mes alt es\",num5)"
   ]
  },
  {
   "cell_type": "markdown",
   "metadata": {},
   "source": [
    "## Exercici 7 \n",
    "\n",
    "Millora el programa anterior, de manera que l’usuari puga introduir tants números com vulga. El\n",
    "programa sol·licitarà números a l’usuari fins que introduïsca la paraula “fi”.\n",
    "\n",
    "```\n",
    "Exemple:\n",
    "Introdueix un número: 6\n",
    "Introdueix un número: 9\n",
    "Introdueix un número: 11\n",
    "Introdueix un número: 3\n",
    "Introdueix un número: 5\n",
    "Introdueix un número: fi\n",
    "El número més alt és: 11\n",
    "```"
   ]
  },
  {
   "cell_type": "code",
   "execution_count": 16,
   "metadata": {},
   "outputs": [
    {
     "name": "stdout",
     "output_type": "stream",
     "text": [
      "El numero mes alt es 11\n"
     ]
    }
   ],
   "source": [
    "\n",
    "lista = []\n",
    "while True :\n",
    "    num = input(\"Introduce un numero\")\n",
    "    if num == \"fi\":\n",
    "        break\n",
    "    else :\n",
    "        lista.append(int(num))\n",
    "print(\"El numero mes alt es\",max(lista))\n"
   ]
  }
 ],
 "metadata": {
  "kernelspec": {
   "display_name": "entornpy",
   "language": "python",
   "name": "python3"
  },
  "language_info": {
   "codemirror_mode": {
    "name": "ipython",
    "version": 3
   },
   "file_extension": ".py",
   "mimetype": "text/x-python",
   "name": "python",
   "nbconvert_exporter": "python",
   "pygments_lexer": "ipython3",
   "version": "3.10.13"
  }
 },
 "nbformat": 4,
 "nbformat_minor": 2
}
