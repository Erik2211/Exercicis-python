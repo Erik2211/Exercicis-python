{
 "cells": [
  {
   "cell_type": "markdown",
   "metadata": {},
   "source": [
    "## Exercici 1\n",
    "\n",
    "Donada la següent llista [12, 23, 5, 29, 92, 64] realitza les següents operacions i ves-te\n",
    "mostrant la llista resultant per pantalla:\n",
    "\n",
    "- Elimina l’últim número i afig-lo al principi.\n",
    "- Mou el segon element a l’última posició.\n",
    "- Afig el número 14 al començament de la llista.\n",
    "- Suma tots els números de la llista i afig el resultat al final de la llista.\n",
    "- Fusiona la llista actual amb la següent: [4, 11, 32]\n",
    "- Elimina tots els nombres imparells de la llista.\n",
    "- Ordena els números de la llista de manera ascendent.\n",
    "- Buida la llista.  \n",
    "\n"
   ]
  },
  {
   "cell_type": "code",
   "execution_count": 11,
   "metadata": {},
   "outputs": [
    {
     "name": "stdout",
     "output_type": "stream",
     "text": [
      "[64, 12, 23, 5, 29, 92]\n",
      "[64, 23, 5, 29, 92, 12]\n",
      "[14, 64, 23, 5, 29, 92, 12]\n",
      "[14, 64, 23, 5, 29, 92, 12, 239]\n",
      "[14, 64, 23, 5, 29, 92, 12, 239, 4, 11, 32]\n",
      "[14, 64, 5, 92, 12, 4, 32]\n",
      "[4, 5, 12, 14, 32, 64, 92]\n",
      "[]\n"
     ]
    }
   ],
   "source": [
    "llista = [12,23,5,29,92,64]\n",
    "\n",
    "# eliminar ultim numero y afegir al principi.\n",
    "\n",
    "llista.pop()\n",
    "llista.insert(0,64)\n",
    "\n",
    "print(llista)\n",
    "\n",
    "# Mou el segon element a l’última posició\n",
    "llista.remove(12)\n",
    "llista.append(12)\n",
    "print(llista)\n",
    "\n",
    "# Afig el número 14 al començament de la llista\n",
    "\n",
    "llista.insert(0,14)\n",
    "print(llista)\n",
    "\n",
    "# Suma tots els números de la llista i afig el resultat al final de la llista\n",
    "\n",
    "llista.append(sum(llista))\n",
    "print(llista)\n",
    "\n",
    "# Fusiona la llista actual amb la següent: [4,11,32]\n",
    "\n",
    "llista2 = [4,11,32]\n",
    "llista.extend(llista2)\n",
    "print(llista)\n",
    "\n",
    "#  Elimina tots els nombres imparells de la llista\n",
    "\n",
    "for i in llista :\n",
    "    if i %2 != 0 :\n",
    "        llista.remove(i)\n",
    "print(llista)\n",
    "\n",
    "# Ordena els números de la llista de manera ascendent\n",
    "llista.sort()\n",
    "print(llista)\n",
    "\n",
    "# Buida la llista.\n",
    "\n",
    "llista.clear()\n",
    "print(llista)"
   ]
  },
  {
   "cell_type": "markdown",
   "metadata": {},
   "source": [
    "## Exercici 2\n",
    "\n",
    "Crea un programa que sol·licite a l’usuari 5 números i els guarde en una llista. A continuació el programa\n",
    "demanarà altres 5 números a l’usuari emmagatzemant-los en una segona llista.\n",
    "El programa mostrarà a l’usuari una llista que continga els números que tenen en comú les dues llistes\n",
    "anteriors.  \n",
    "\n",
    "Exemple: Llista 1 = [6,14,11,78,5] i Llista 2 = [3,14,22,78,9]  \n",
    "Resultat: [14, 78]"
   ]
  },
  {
   "cell_type": "code",
   "execution_count": 15,
   "metadata": {},
   "outputs": [
    {
     "name": "stdout",
     "output_type": "stream",
     "text": [
      "[14, 78]\n"
     ]
    }
   ],
   "source": [
    "llista = []\n",
    "for a in range(1,6) :\n",
    "    num = int(input(\"Di un numero\"))\n",
    "    llista.append(num)\n",
    "\n",
    "llista2 = []\n",
    "\n",
    "for b in range(1,6) : \n",
    "    num2= int(input(\"Di un numero\"))\n",
    "    llista2.append(num2)\n",
    "\n",
    "listacomun = []\n",
    "\n",
    "for i in llista : \n",
    "    if i in llista2 :\n",
    "        listacomun.append(i)\n",
    "\n",
    "print(listacomun)\n",
    "\n",
    "\n"
   ]
  }
 ],
 "metadata": {
  "kernelspec": {
   "display_name": "Python 3",
   "language": "python",
   "name": "python3"
  },
  "language_info": {
   "codemirror_mode": {
    "name": "ipython",
    "version": 3
   },
   "file_extension": ".py",
   "mimetype": "text/x-python",
   "name": "python",
   "nbconvert_exporter": "python",
   "pygments_lexer": "ipython3",
   "version": "3.11.4"
  }
 },
 "nbformat": 4,
 "nbformat_minor": 2
}
