{
 "cells": [
  {
   "cell_type": "markdown",
   "metadata": {},
   "source": [
    "## Exercici 1 \n",
    "\n",
    "Escriu un programa que continga les següents variables:\n",
    "- nom: tipus string i valor “Michael Jordan”  \n",
    "- edat: tipus integer i valor 50  \n",
    "- mitjana_punts: tipus float i valor 28.5  \n",
    "- actiu: False\n",
    "    \n",
    "El programa haurà de mostrar en pantalla tots els valors.  "
   ]
  },
  {
   "cell_type": "code",
   "execution_count": 1,
   "metadata": {},
   "outputs": [
    {
     "name": "stdout",
     "output_type": "stream",
     "text": [
      "Michael Jordan\n",
      "50\n",
      "28.5\n",
      "False\n"
     ]
    }
   ],
   "source": [
    "nom=\"Michael Jordan\"\n",
    "edat=50\n",
    "mitjana_punts=28.5\n",
    "actiu=False\n",
    "print(nom)\n",
    "print(edat)\n",
    "print(mitjana_punts)\n",
    "print(actiu)\n"
   ]
  },
  {
   "cell_type": "markdown",
   "metadata": {},
   "source": [
    "## Exercici 2\n",
    "\n",
    "Escriu un programa que sol·licite el nom, DNI i edat, l’emmagatzeme en 3 variables diferents i mostre\n",
    "per pantalla els valors introduïts."
   ]
  },
  {
   "cell_type": "code",
   "execution_count": 3,
   "metadata": {},
   "outputs": [
    {
     "name": "stdout",
     "output_type": "stream",
     "text": [
      "jpon 48974456 26\n"
     ]
    }
   ],
   "source": [
    "nom=input(\"Escribe tu nombre: \")\n",
    "DNI=input(\"Escribe tu DNI: \")\n",
    "edat=input(\"Escribe tu edat: \")\n",
    "print(nom,DNI,edat)\n"
   ]
  },
  {
   "cell_type": "markdown",
   "metadata": {},
   "source": [
    "## Ejercici 3\n",
    "\n",
    "Escriu un programa que genere un string compost pels primers 3 caràcters i els últims 3 caràcters\n",
    "d’un string introduït per l’usuari.  \n",
    "\n",
    "Pista: hauràs d’utilitzar la funció len() en l’obtenció dels últims 3 caràcters.  \n",
    "\n",
    "Exemple 1: ‘aprenent’ Resultat 1: ‘aprent’ Exemple 2: ‘escrivint codi’ Resultat 2: ‘escodi’"
   ]
  },
  {
   "cell_type": "code",
   "execution_count": 22,
   "metadata": {},
   "outputs": [
    {
     "name": "stdout",
     "output_type": "stream",
     "text": [
      "a p r e n t\n"
     ]
    }
   ],
   "source": [
    "frase = input(\"Introduce una frase\")\n",
    "ult = int(len(frase))\n",
    "print(frase[0],frase[1],frase[2],frase[ult-3],frase[ult-2],frase[ult-1])\n"
   ]
  },
  {
   "cell_type": "markdown",
   "metadata": {},
   "source": [
    "## Exercici 4\n",
    "\n",
    "Escriu un programa que sol·licite a l’usuari dos números i una frase. El primer número introduït es correspondrà a la posició d’inici del substring que haurà de mostrar el programa per pantalla. El\n",
    "segon número indicarà la longitud d’aquest substring.  \n",
    "\n",
    "Exemple 1: Posicio = 4, Longitud = 8, Frase = ‘Desenvolupar és la meua nova afició’ Resultat 1: “nvolupar”  \n",
    "Exemple 2: Posicio = 8, Longitud=11, Frase = ‘Benvingut a la classe de programació’ Resultat 2: “t a la clas”\n",
    "\n",
    "\n"
   ]
  },
  {
   "cell_type": "code",
   "execution_count": 33,
   "metadata": {},
   "outputs": [
    {
     "name": "stdout",
     "output_type": "stream",
     "text": [
      "t a\n"
     ]
    }
   ],
   "source": [
    "pos = int(input(\"Introduce una posicion\"))\n",
    "long = int(input(\"Introduce la longitud\"))\n",
    "frase = input(\"Introduce una frase\")\n",
    "\n",
    "print(frase[pos:long])"
   ]
  },
  {
   "cell_type": "markdown",
   "metadata": {},
   "source": [
    "## Exercici 5 \n",
    "\n",
    "Escriu un programa que sol·licite a l’usuari una frase. A continuació li sol·licitarà la lletra que vol\n",
    "reemplaçar i per quina lletra haurà de reemplaçar-se. Finalment el programa mostrarà el nombre de\n",
    "vegades que la lletra és present en la frase i el resultat final després de reemplaçar-la.  \n",
    "\n",
    "Exemple: ‘Desenvolupar és el meu nou passatemps’, ‘a’,‘e’ Resultat: aparicions. ‘Desenvoluper és el\n",
    "meu nou pessetemps’\n"
   ]
  },
  {
   "cell_type": "code",
   "execution_count": 36,
   "metadata": {},
   "outputs": [
    {
     "name": "stdout",
     "output_type": "stream",
     "text": [
      "Desenvoluper es el meu nou pessetemps\n",
      "En la frase hay 3 veces\n"
     ]
    }
   ],
   "source": [
    "frase = input(\"Introduce una frase\")\n",
    "\n",
    "remp = input(\"Que letra quieres remplazar\")\n",
    "aremp = input(\"Por que letra quieres reemplazarse?\")\n",
    "\n",
    "print(frase.replace(remp,aremp))\n",
    "print(\"En la frase hay\",frase.count(remp),\"veces la letra\",remp)"
   ]
  }
 ],
 "metadata": {
  "kernelspec": {
   "display_name": "entornpy",
   "language": "python",
   "name": "python3"
  },
  "language_info": {
   "codemirror_mode": {
    "name": "ipython",
    "version": 3
   },
   "file_extension": ".py",
   "mimetype": "text/x-python",
   "name": "python",
   "nbconvert_exporter": "python",
   "pygments_lexer": "ipython3",
   "version": "3.10.13"
  }
 },
 "nbformat": 4,
 "nbformat_minor": 2
}
